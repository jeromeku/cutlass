{
 "cells": [
  {
   "cell_type": "markdown",
   "metadata": {},
   "source": [
    "# Using CuTe Layout Algebra With Python DSL\n",
    "\n",
    "Referencing the [01_layout.md](https://github.com/NVIDIA/cutlass/blob/main/media/docs/cpp/cute/01_layout.md) and [02_layout_algebra.md](https://github.com/NVIDIA/cutlass/blob/main/media/docs/cpp/cute/02_layout_algebra.md) documentation from CuTe C++, we summarize:\n",
    "\n",
    "In CuTe, a `Layout`:\n",
    "\n",
    "- is defined by a pair of `Shape` and `Stride`,\n",
    "- maps coordinates space(s) to an index space,\n",
    "- supports both static (compile-time) and dynamic (runtime) values.\n",
    "\n",
    "CuTe also provides a powerful set of operations—the _Layout Algebra_—for combining and manipulating layouts, including:\n",
    "\n",
    "- Layout composition: Functional composition of layouts,\n",
    "- Layout \"divide\": Splitting a layout into two component layouts,\n",
    "- Layout \"product\": Reproducing a layout according to another layout.\n",
    "\n",
    "In this notebook, we will demonstrate:\n",
    "\n",
    "1. How to use CuTe’s key layout algebra operations with the Python DSL.\n",
    "2. How static and dynamic layouts behave when printed or manipulated within the Python DSL.\n",
    "\n",
    "We use examples from [02_layout_algebra.md](https://github.com/NVIDIA/cutlass/blob/main/media/docs/cpp/cute/02_layout_algebra.md) which we recommend to the reader for additional details.\n"
   ]
  },
  {
   "cell_type": "code",
   "execution_count": 1,
   "metadata": {},
   "outputs": [
    {
     "name": "stderr",
     "output_type": "stream",
     "text": [
      "2025-05-14 10:04:14,239 - default - DEBUG - [setup_log] - /home/jeromeku/cutlass/cute_dsl/nvidia_cutlass_dsl/python_packages/cutlass/base_dsl/utils/logger.py:76 Logging setup!\n",
      "2025-05-14 10:04:14,240 - default - INFO - [<module>] - /home/jeromeku/cutlass/cute_dsl/nvidia_cutlass_dsl/python_packages/cutlass/base_dsl/utils/logger.py:90 Set up logger at /home/jeromeku/cutlass/cute_dsl_logs/20250514:10:04.log\n"
     ]
    }
   ],
   "source": [
    "import cutlass\n",
    "import cutlass.cute as cute"
   ]
  },
  {
   "cell_type": "markdown",
   "metadata": {},
   "source": [
    "## Layout Algebra Operations\n",
    "\n",
    "These operations form the foundation of CuTe's layout manipulation capabilities, enabling:\n",
    "\n",
    "- Efficient data tiling and partitioning,\n",
    "- Separation of thread and data layouts with a canonical type to represent both,\n",
    "- Native description and manipulation of hierarchical tensors of threads and data crucial for tensor core programs,\n",
    "- Mixed static/dynamic layout transformations,\n",
    "- Seamless integration of layout algebra with tensor operations,\n",
    "- Expression of complex MMA and copies as canonical loops.\n"
   ]
  },
  {
   "cell_type": "markdown",
   "metadata": {},
   "source": [
    "### 1. Coalesce\n",
    "\n",
    "The `coalesce` operation simplifies a layout by flattening and combining modes when possible, without changing its size or behavior as a function on the integers.\n",
    "\n",
    "It ensures the post-conditions:\n",
    "\n",
    "- Preserve size: cute.size(layout) == cute.size(result),\n",
    "- Flattened: depth(result) <= 1,\n",
    "- Preserve functional: For all i, 0 <= i < cute.size(layout), layout(i) == result(i).\n",
    "\n",
    "#### Examples\n",
    "\n",
    "- Basic Coalesce Example :\n"
   ]
  },
  {
   "cell_type": "code",
   "execution_count": 2,
   "metadata": {},
   "outputs": [
    {
     "name": "stdout",
     "output_type": "stream",
     "text": [
      ">>> Original: (2,(1,6)):(1,(?,2))\n",
      ">>> Coalesced: 12:1\n",
      ">?? Original: (2,(1,6)):(1,(6,2))\n",
      ">?? Coalesced: 12:1\n"
     ]
    }
   ],
   "source": [
    "@cute.jit\n",
    "def coalesce_example():\n",
    "    \"\"\"\n",
    "    Demonstrates coalesce operation flattening and combining modes\n",
    "    \"\"\"\n",
    "    layout = cute.make_layout((2, (1, 6)), stride=(1, (cutlass.Int32(6), 2))) # Dynamic stride\n",
    "    result = cute.coalesce(layout)\n",
    "\n",
    "    print(\">>> Original:\", layout)\n",
    "    cute.printf(\">?? Original: {}\", layout)\n",
    "    print(\">>> Coalesced:\", result)\n",
    "    cute.printf(\">?? Coalesced: {}\", result)\n",
    "\n",
    "coalesce_example()"
   ]
  },
  {
   "cell_type": "code",
   "execution_count": 3,
   "metadata": {},
   "outputs": [
    {
     "ename": "RuntimeError",
     "evalue": "An MLIR function requires a Context but none was provided in the call or from the surrounding environment. Either pass to the function with a 'context=' argument or establish a default using 'with Context():'",
     "output_type": "error",
     "traceback": [
      "\u001b[31m---------------------------------------------------------------------------\u001b[39m",
      "\u001b[31mRuntimeError\u001b[39m                              Traceback (most recent call last)",
      "\u001b[36mCell\u001b[39m\u001b[36m \u001b[39m\u001b[32mIn[3]\u001b[39m\u001b[32m, line 3\u001b[39m\n\u001b[32m      1\u001b[39m shape = (\u001b[32m4\u001b[39m, \u001b[32m4\u001b[39m)\n\u001b[32m      2\u001b[39m stride = (\u001b[32m4\u001b[39m, \u001b[32m1\u001b[39m)\n\u001b[32m----> \u001b[39m\u001b[32m3\u001b[39m layout = \u001b[43mcute\u001b[49m\u001b[43m.\u001b[49m\u001b[43mmake_layout\u001b[49m\u001b[43m(\u001b[49m\u001b[43mshape\u001b[49m\u001b[43m,\u001b[49m\u001b[43m \u001b[49m\u001b[43mstride\u001b[49m\u001b[43m)\u001b[49m\n",
      "\u001b[36mFile \u001b[39m\u001b[32m~/cutlass/cute_dsl/nvidia_cutlass_dsl/python_packages/cutlass/base_dsl/_mlir_helpers/op.py:29\u001b[39m, in \u001b[36mdsl_user_op.<locals>.wrapper\u001b[39m\u001b[34m(*args, **kwargs)\u001b[39m\n\u001b[32m     27\u001b[39m \u001b[38;5;28;01mif\u001b[39;00m loc \u001b[38;5;129;01mis\u001b[39;00m \u001b[38;5;28;01mNone\u001b[39;00m:\n\u001b[32m     28\u001b[39m     frame = inspect.currentframe().f_back\n\u001b[32m---> \u001b[39m\u001b[32m29\u001b[39m     file_loc = \u001b[43mir\u001b[49m\u001b[43m.\u001b[49m\u001b[43mLocation\u001b[49m\u001b[43m.\u001b[49m\u001b[43mfile\u001b[49m\u001b[43m(\u001b[49m\u001b[43mframe\u001b[49m\u001b[43m.\u001b[49m\u001b[43mf_code\u001b[49m\u001b[43m.\u001b[49m\u001b[43mco_filename\u001b[49m\u001b[43m,\u001b[49m\u001b[43m \u001b[49m\u001b[43mframe\u001b[49m\u001b[43m.\u001b[49m\u001b[43mf_lineno\u001b[49m\u001b[43m,\u001b[49m\u001b[43m \u001b[49m\u001b[32;43m0\u001b[39;49m\u001b[43m)\u001b[49m\n\u001b[32m     30\u001b[39m     loc = ir.Location.name(frame.f_code.co_name, childLoc=file_loc)\n\u001b[32m     31\u001b[39m res_or_list = opFunc(*args, **kwargs, loc=loc)\n",
      "\u001b[31mRuntimeError\u001b[39m: An MLIR function requires a Context but none was provided in the call or from the surrounding environment. Either pass to the function with a 'context=' argument or establish a default using 'with Context():'"
     ]
    }
   ],
   "source": [
    "shape = (4, 4)\n",
    "stride = (4, 1)\n",
    "layout = cute.make_layout(shape, stride)"
   ]
  },
  {
   "cell_type": "code",
   "execution_count": 4,
   "metadata": {},
   "outputs": [],
   "source": [
    "@cute.jit\n",
    "def coalesce_post_conditions():\n",
    "    \"\"\"\n",
    "    Demonstrates coalesce operation's 3 post-conditions:\n",
    "    1. size(@a result) == size(@a layout)\n",
    "    2. depth(@a result) <= 1\n",
    "    3. for all i, 0 <= i < size(@a layout), @a result(i) == @a layout(i)\n",
    "    \"\"\"\n",
    "    layout = cute.make_layout(\n",
    "        ((2, (3, 4)), (3, 2), 1),\n",
    "        stride=((4, (8, 24)), (2, 6), 12)\n",
    "    )\n",
    "    result = cute.coalesce(layout)\n",
    "\n",
    "    print(\">>> Original:\", layout)\n",
    "    print(\">>> Coalesced:\", result)\n",
    "\n",
    "    print(\">>> Checking post-conditions:\")\n",
    "    print(\">>> 1. Checking size remains the same after the coalesce operation:\")\n",
    "    original_size = cute.size(layout)\n",
    "    coalesced_size = cute.size(result)\n",
    "    print(f\"Original size: {original_size}, Coalesced size: {coalesced_size}\")\n",
    "    assert coalesced_size == original_size, \\\n",
    "            f\"Size mismatch: original {original_size}, coalesced {coalesced_size}\"\n",
    "    \n",
    "    print(\">>> 2. Checking depth of coalesced layout <= 1:\")\n",
    "    depth = cute.depth(result)\n",
    "    print(f\"Depths: {cute.depth(layout)} {depth}\")\n",
    "    assert depth <= 1, f\"Depth of coalesced layout should be <= 1, got {depth}\"\n",
    "\n",
    "    print(\">>> 3. Checking layout functionality remains the same after the coalesce operation:\")\n",
    "    assert all(layout(i) == result(i) for i in range(original_size))\n",
    "        # original_value = layout(i)\n",
    "        # coalesced_value = result(i)\n",
    "        # print(f\"Index {i}: original {original_value}, coalesced {coalesced_value}\")\n",
    "        # assert coalesced_value == original_value, \\\n",
    "        #     f\"Value mismatch at index {i}: original {original_value}, coalesced {coalesced_value}\"\n"
   ]
  },
  {
   "cell_type": "code",
   "execution_count": 5,
   "metadata": {},
   "outputs": [
    {
     "name": "stdout",
     "output_type": "stream",
     "text": [
      ">>> Original: ((2,(3,4)),(3,2),1):((4,(8,24)),(2,6),12)\n",
      ">>> Coalesced: (24,6):(4,2)\n",
      ">>> Checking post-conditions:\n",
      ">>> 1. Checking size remains the same after the coalesce operation:\n",
      "Original size: 144, Coalesced size: 144\n",
      ">>> 2. Checking depth of coalesced layout <= 1:\n",
      "Depths: 3 1\n",
      ">>> 3. Checking layout functionality remains the same after the coalesce operation:\n"
     ]
    }
   ],
   "source": [
    "\n",
    "coalesce_post_conditions()"
   ]
  },
  {
   "cell_type": "code",
   "execution_count": null,
   "metadata": {},
   "outputs": [],
   "source": []
  },
  {
   "cell_type": "markdown",
   "metadata": {},
   "source": [
    "- By-mode Coalesce Example :\n"
   ]
  },
  {
   "cell_type": "code",
   "execution_count": null,
   "metadata": {},
   "outputs": [
    {
     "name": "stdout",
     "output_type": "stream",
     "text": [
      ">>> Original:  (2,(1,6)):(1,(6,2))\n",
      ">>> Coalesced Result:  (2,6):(1,2)\n"
     ]
    }
   ],
   "source": [
    "@cute.jit\n",
    "def bymode_coalesce_example():\n",
    "    \"\"\"\n",
    "    Demonstrates by-mode coalescing\n",
    "    \"\"\"\n",
    "    layout = cute.make_layout((2, (1, 6)), stride=(1, (6, 2)))\n",
    "\n",
    "    # Coalesce with mode-wise profile (1,1) = coalesce both modes\n",
    "    result = cute.coalesce(layout, target_profile=(1, 1))\n",
    "    \n",
    "    # Print results\n",
    "    print(\">>> Original: \", layout)\n",
    "    print(\">>> Coalesced Result: \", result)\n",
    "\n",
    "bymode_coalesce_example()"
   ]
  },
  {
   "cell_type": "markdown",
   "metadata": {},
   "source": [
    "### 2. Composition\n",
    "\n",
    "`Composition` of Layout `A` with Layout `B` creates a new layout `R = A ◦ B` where:\n",
    "\n",
    "- The shape of `B` is compatible with the shape of `R` so that all coordinates of `B` can also be used as coordinates of `R`,\n",
    "- `R(c) = A(B(c))` for all coordinates `c` in `B`'s domain.\n",
    "\n",
    "Layout composition is very useful for reshaping and reordering layouts.\n",
    "\n",
    "#### Examples\n",
    "\n",
    "- Basic Composition Example :\n"
   ]
  },
  {
   "cell_type": "code",
   "execution_count": 7,
   "metadata": {},
   "outputs": [
    {
     "name": "stdout",
     "output_type": "stream",
     "text": [
      "A shape 6\n",
      ">?? Layout A: (6,2):(2,1)\n",
      ">?? Layout B: (4,3):(3,1)\n",
      ">?? Composition R: ((2,2),3):((6,1),2)\n",
      "B (0,0): 0 0\n",
      "B (0,1): 1 2\n",
      "B (0,2): 2 4\n",
      "B (1,0): 3 6\n",
      "B (1,1): 4 8\n",
      "B (1,2): 5 10\n",
      "B (2,0): 6 1\n",
      "B (2,1): 7 3\n",
      "B (2,2): 8 5\n",
      "B (3,0): 9 7\n",
      "B (3,1): 10 9\n",
      "B (3,2): 11 11\n"
     ]
    }
   ],
   "source": [
    "@cute.jit\n",
    "def composition_example():\n",
    "    \"\"\"\n",
    "    Demonstrates basic layout composition R = A ◦ B\n",
    "    \"\"\"\n",
    "    A = cute.make_layout((6, 2), stride=(2, 1)) # Dynamic stride\n",
    "    B = cute.make_layout((4, 3), stride=(3, 1))\n",
    "    R = cute.composition(A, B)\n",
    "\n",
    "    # Print static and dynamic information\n",
    "    # print(\">>> Layout A:\", A)\n",
    "    cute.printf(\">?? Layout A: {}\", A)\n",
    "    print(\"A shape\", A.shape[0])\n",
    "    \n",
    "    # print(\">>> Layout B:\", B) \n",
    "    cute.printf(\">?? Layout B: {}\", B)\n",
    "    # print(\">>> Composition R = A ◦ B:\", R)\n",
    "    cute.printf(\">?? Composition R: {}\", R)\n",
    "    for i in range(B.shape[0]):\n",
    "        for j in range(B.shape[1]):\n",
    "            cute.printf(f\"B ({i},{j}): {B((i,j))} {R((i,j))}\")\n",
    "composition_example()"
   ]
  },
  {
   "cell_type": "markdown",
   "metadata": {},
   "source": [
    "- Comparing Composition with static and dynamic layouts :\n",
    "\n",
    "In this case, the results may look different but are mathematically the same. The 1s in the shape don't affect the layout as a mathematical function on the integers. In the dynamic case, CuTe can not coalesce the dynamic size-1 modes to \"simplify\" the layout because it is not valid to do so for all possible dynamic values that parameter could realize at runtime.\n"
   ]
  },
  {
   "cell_type": "code",
   "execution_count": 8,
   "metadata": {},
   "outputs": [
    {
     "name": "stdout",
     "output_type": "stream",
     "text": [
      ">>> Static composition:\n",
      ">>> A_static:  (10,2):(16,4)\n",
      ">>> B_static:  (5,4):(1,5)\n",
      ">>> R_static:  (5,(2,2)):(16,(80,4))\n",
      ">?? Dynamic composition:\n",
      ">?? A_dynamic: (10,2):(16,4)\n",
      ">?? B_dynamic: (5,4):(1,5)\n",
      ">?? R_dynamic: ((5,1),(2,2)):((16,4),(80,4))\n"
     ]
    }
   ],
   "source": [
    "@cute.jit\n",
    "def composition_static_vs_dynamic_layout():\n",
    "    \"\"\"\n",
    "    Shows difference between static and dynamic composition results\n",
    "    \"\"\"\n",
    "    # Static version - using compile-time values\n",
    "    A_static = cute.make_layout(\n",
    "        (10, 2), \n",
    "        stride=(16, 4)\n",
    "    )\n",
    "    B_static = cute.make_layout(\n",
    "        (5, 4), \n",
    "        stride=(1, 5)\n",
    "    )\n",
    "    R_static = cute.composition(A_static, B_static)\n",
    "\n",
    "    # Static print shows compile-time info\n",
    "    print(\">>> Static composition:\")\n",
    "    print(\">>> A_static: \", A_static)\n",
    "    print(\">>> B_static: \", B_static)\n",
    "    print(\">>> R_static: \", R_static)\n",
    "\n",
    "    # Dynamic version - using runtime Int32 values\n",
    "    A_dynamic = cute.make_layout(\n",
    "        (cutlass.Int32(10), cutlass.Int32(2)),\n",
    "        stride=(cutlass.Int32(16), cutlass.Int32(4))\n",
    "    )\n",
    "    B_dynamic = cute.make_layout(\n",
    "        (cutlass.Int32(5), cutlass.Int32(4)),\n",
    "        stride=(cutlass.Int32(1), cutlass.Int32(5))\n",
    "    )\n",
    "    R_dynamic = cute.composition(A_dynamic, B_dynamic)\n",
    "    \n",
    "    # Dynamic printf shows runtime values\n",
    "    cute.printf(\">?? Dynamic composition:\")\n",
    "    cute.printf(\">?? A_dynamic: {}\", A_dynamic)\n",
    "    cute.printf(\">?? B_dynamic: {}\", B_dynamic)\n",
    "    cute.printf(\">?? R_dynamic: {}\", R_dynamic)\n",
    "\n",
    "composition_static_vs_dynamic_layout()"
   ]
  },
  {
   "cell_type": "markdown",
   "metadata": {},
   "source": [
    "- By-mode Composition Example :\n",
    "\n",
    "By-mode composition allows us to apply composition operations to individual modes of a layout. This is particularly useful when you want to manipulate specific modes layout independently (e.g. rows and columns).\n",
    "\n",
    "In the context of CuTe, by-mode composition is achieved by using a `Tiler`, which can be a layout or a tuple of layouts. The leaves of the `Tiler` tuple specify how the corresponding mode of the target layout should be composed, allowing for sublayouts to be treated independently.\n"
   ]
  },
  {
   "cell_type": "code",
   "execution_count": 27,
   "metadata": {},
   "outputs": [],
   "source": [
    "@cute.jit\n",
    "def bymode_composition_example():\n",
    "    \"\"\"\n",
    "    Demonstrates by-mode composition using a tiler\n",
    "    \"\"\"\n",
    "    # Define the original layout A\n",
    "    # A = cute.make_layout(\n",
    "    #     (cutlass.Int32(12), (cutlass.Int32(4), cutlass.Int32(8))), \n",
    "    #     stride=(cutlass.Int32(59), (cutlass.Int32(13), cutlass.Int32(1)))\n",
    "    # )\n",
    "    A = cute.make_layout(\n",
    "        (12, (4, 8)), \n",
    "        stride=(32, (8, 1)))\n",
    "\n",
    "    # Define the tiler for by-mode composition\n",
    "    tiler = (3, 8) # Apply 3:1 to mode-0 and 8:1 to mode-1\n",
    "\n",
    "    # Apply by-mode composition\n",
    "    result = cute.composition(A, tiler)\n",
    "\n",
    "    # Print static and dynamic information\n",
    "    # print(\">>> Layout A:\", A)\n",
    "    cute.printf(\">?? Layout A: {}\", A)\n",
    "    # print(\">>> Tiler:\", tiler)\n",
    "    cute.printf(\">?? Tiler: {}\", tiler)\n",
    "    # print(\">>> By-mode Composition Result:\", result)\n",
    "    cute.printf(\">?? By-mode Composition Result: {}\", result)\n",
    "    inner_shape = A.shape[1]\n",
    "    for i in range(inner_shape[0]):\n",
    "        for j in range(inner_shape[1]):\n",
    "            coord = (0, (i, j))\n",
    "            cute.printf(f\"({i},{j}): {A(coord)} {result(coord)}\")\n",
    "        \n"
   ]
  },
  {
   "cell_type": "code",
   "execution_count": 28,
   "metadata": {},
   "outputs": [
    {
     "name": "stdout",
     "output_type": "stream",
     "text": [
      ">?? Layout A: (12,(4,8)):(32,(8,1))\n",
      ">?? Tiler: (3,8)\n",
      ">?? By-mode Composition Result: (3,(4,2)):(32,(8,1))\n",
      "(0,0): 0 0\n",
      "(0,1): 1 1\n",
      "(0,2): 2 2\n",
      "(0,3): 3 3\n",
      "(0,4): 4 4\n",
      "(0,5): 5 5\n",
      "(0,6): 6 6\n",
      "(0,7): 7 7\n",
      "(1,0): 8 8\n",
      "(1,1): 9 9\n",
      "(1,2): 10 10\n",
      "(1,3): 11 11\n",
      "(1,4): 12 12\n",
      "(1,5): 13 13\n",
      "(1,6): 14 14\n",
      "(1,7): 15 15\n",
      "(2,0): 16 16\n",
      "(2,1): 17 17\n",
      "(2,2): 18 18\n",
      "(2,3): 19 19\n",
      "(2,4): 20 20\n",
      "(2,5): 21 21\n",
      "(2,6): 22 22\n",
      "(2,7): 23 23\n",
      "(3,0): 24 24\n",
      "(3,1): 25 25\n",
      "(3,2): 26 26\n",
      "(3,3): 27 27\n",
      "(3,4): 28 28\n",
      "(3,5): 29 29\n",
      "(3,6): 30 30\n",
      "(3,7): 31 31\n"
     ]
    }
   ],
   "source": [
    "bymode_composition_example()"
   ]
  },
  {
   "cell_type": "markdown",
   "metadata": {},
   "source": [
    "### 3. Division (Splitting into Tiles)\n",
    "\n",
    "The Division operation in CuTe is used to split a layout into tiles, which is particularly useful for partitioning data across threads or memory hierarchies.\n",
    "\n",
    "#### Examples :\n",
    "\n",
    "- Logical divide :\n",
    "\n",
    "When applied to two Layouts, `logical_divide` splits a layout into two modes -- the first mode contains the elements pointed to by the tiler, and the second mode contains the remaining elements.\n"
   ]
  },
  {
   "cell_type": "code",
   "execution_count": 33,
   "metadata": {},
   "outputs": [
    {
     "name": "stdout",
     "output_type": "stream",
     "text": [
      ">>> Layout: (4,2,3):(2,1,8)\n",
      ">>> Tiler : 4:2\n",
      ">>> Logical Divide Result: ((2,2),(2,3)):((4,1),(2,8))\n"
     ]
    }
   ],
   "source": [
    "@cute.jit\n",
    "def logical_divide_1d_example():\n",
    "    \"\"\"\n",
    "    Demonstrates 1D logical divide\n",
    "    \"\"\"\n",
    "    # Define the original layout\n",
    "    layout = cute.make_layout((4, 2, 3), stride=(2, 1, 8))  # (4,2,3):(2,1,8)\n",
    "    \n",
    "    # Define the tiler\n",
    "    tiler = cute.make_layout(4, stride=2)  # Apply to layout 4:2\n",
    "    \n",
    "    # Apply logical divide\n",
    "    result = cute.logical_divide(layout, tiler=tiler)\n",
    "    \n",
    "    # Print results\n",
    "    print(\">>> Layout:\", layout)\n",
    "    print(\">>> Tiler :\", tiler)\n",
    "    print(\">>> Logical Divide Result:\", result)\n",
    "    # cute.printf(\">?? Logical Divide Result: {}\", result)\n",
    "    # coord = (_, (0, 0))\n",
    "     # cute.printf(result(((_,_), (0,0))))\n",
    "logical_divide_1d_example()"
   ]
  },
  {
   "cell_type": "markdown",
   "metadata": {},
   "source": [
    "When applied to a Layout and a `Tiler` tuple, `logical_divide` applies itself to the leaves of the `Tiler`and the corresponding mode of the target Layout. This means that the sublayouts are split independently according to the layouts within the `Tiler`.\n"
   ]
  },
  {
   "cell_type": "code",
   "execution_count": 11,
   "metadata": {},
   "outputs": [
    {
     "name": "stdout",
     "output_type": "stream",
     "text": [
      ">>> Layout: (9,(4,8)):(59,(13,1))\n",
      ">>> Tiler : (<cutlass.cute.core._Layout object at 0x7fc95a4ca7b0>, <cutlass.cute.core._Layout object at 0x7fc958160f50>)\n",
      ">>> Logical Divide Result: ((3,3),((2,4),(2,2))):((177,59),((13,2),(26,1)))\n",
      ">?? Logical Divide Result: ((3,3),((2,4),(2,2))):((177,59),((13,2),(26,1)))\n"
     ]
    }
   ],
   "source": [
    "@cute.jit\n",
    "def logical_divide_2d_example():\n",
    "    \"\"\"\n",
    "    Demonstrates 2D logical divide :\n",
    "    Layout Shape : (M, N, L, ...)\n",
    "    Tiler Shape  : <TileM, TileN>\n",
    "    Result Shape : ((TileM,RestM), (TileN,RestN), L, ...)\n",
    "    \"\"\"\n",
    "    # Define the original layout\n",
    "    layout = cute.make_layout((9, (4, 8)), stride=(59, (13, 1)))  # (9,(4,8)):(59,(13,1))\n",
    "    \n",
    "    # Define the tiler\n",
    "    tiler = (cute.make_layout(3, stride=3),            # Apply to mode-0 layout 3:3\n",
    "             cute.make_layout((2, 4), stride=(1, 8)))  # Apply to mode-1 layout (2,4):(1,8)\n",
    "    \n",
    "    # Apply logical divide\n",
    "    result = cute.logical_divide(layout, tiler=tiler)\n",
    "    \n",
    "    # Print results\n",
    "    print(\">>> Layout:\", layout)\n",
    "    print(\">>> Tiler :\", tiler)\n",
    "    print(\">>> Logical Divide Result:\", result)\n",
    "    cute.printf(\">?? Logical Divide Result: {}\", result)\n",
    "\n",
    "logical_divide_2d_example()"
   ]
  },
  {
   "cell_type": "markdown",
   "metadata": {},
   "source": [
    "Zipped, tiled, and flat divide are flavors of `logical_divide` that potentially rearrange modes into more convenient forms.\n",
    "\n",
    "- Zipped Divide :\n"
   ]
  },
  {
   "cell_type": "code",
   "execution_count": 12,
   "metadata": {},
   "outputs": [
    {
     "name": "stdout",
     "output_type": "stream",
     "text": [
      ">>> Layout: (9,(4,8)):(59,(13,1))\n",
      ">>> Tiler : (<cutlass.cute.core._Layout object at 0x7fc95a4ca7b0>, <cutlass.cute.core._Layout object at 0x7fc9581611f0>)\n",
      ">>> Zipped Divide Result: ((3,(2,4)),(3,(2,2))):((177,(13,2)),(59,(26,1)))\n",
      ">?? Zipped Divide Result: ((3,(2,4)),(3,(2,2))):((177,(13,2)),(59,(26,1)))\n"
     ]
    }
   ],
   "source": [
    "@cute.jit\n",
    "def zipped_divide_example():\n",
    "    \"\"\"\n",
    "    Demonstrates zipped divide :\n",
    "    Layout Shape : (M, N, L, ...)\n",
    "    Tiler Shape  : <TileM, TileN>\n",
    "    Result Shape : ((TileM,TileN), (RestM,RestN,L,...))\n",
    "    \"\"\"\n",
    "    # Define the original layout\n",
    "    layout = cute.make_layout((9, (4, 8)), stride=(59, (13, 1)))  # (9,(4,8)):(59,(13,1))\n",
    "    \n",
    "    # Define the tiler\n",
    "    tiler = (cute.make_layout(3, stride=3),            # Apply to mode-0 layout 3:3\n",
    "             cute.make_layout((2, 4), stride=(1, 8)))  # Apply to mode-1 layout (2,4):(1,8)\n",
    "    \n",
    "    # Apply zipped divide\n",
    "    result = cute.zipped_divide(layout, tiler=tiler)\n",
    "    \n",
    "    # Print results\n",
    "    print(\">>> Layout:\", layout)\n",
    "    print(\">>> Tiler :\", tiler)\n",
    "    print(\">>> Zipped Divide Result:\", result)\n",
    "    cute.printf(\">?? Zipped Divide Result: {}\", result)\n",
    "\n",
    "zipped_divide_example()"
   ]
  },
  {
   "cell_type": "markdown",
   "metadata": {},
   "source": [
    "- Tiled Divide :\n"
   ]
  },
  {
   "cell_type": "code",
   "execution_count": 13,
   "metadata": {},
   "outputs": [
    {
     "name": "stdout",
     "output_type": "stream",
     "text": [
      ">>> Layout: (9,(4,8)):(59,(13,1))\n",
      ">>> Tiler : (<cutlass.cute.core._Layout object at 0x7fc9581610d0>, <cutlass.cute.core._Layout object at 0x7fc958161070>)\n",
      ">>> Tiled Divide Result: ((3,(2,4)),3,(2,2)):((177,(13,2)),59,(26,1))\n",
      ">?? Tiled Divide Result: ((3,(2,4)),3,(2,2)):((177,(13,2)),59,(26,1))\n"
     ]
    }
   ],
   "source": [
    "@cute.jit\n",
    "def tiled_divide_example():\n",
    "    \"\"\"\n",
    "    Demonstrates tiled divide :\n",
    "    Layout Shape : (M, N, L, ...)\n",
    "    Tiler Shape  : <TileM, TileN>\n",
    "    Result Shape : ((TileM,TileN), RestM, RestN, L, ...)\n",
    "    \"\"\"\n",
    "    # Define the original layout\n",
    "    layout = cute.make_layout((9, (4, 8)), stride=(59, (13, 1)))  # (9,(4,8)):(59,(13,1))\n",
    "    \n",
    "    # Define the tiler\n",
    "    tiler = (cute.make_layout(3, stride=3),            # Apply to mode-0 layout 3:3\n",
    "             cute.make_layout((2, 4), stride=(1, 8)))  # Apply to mode-1 layout (2,4):(1,8)\n",
    "    \n",
    "    # Apply tiled divide\n",
    "    result = cute.tiled_divide(layout, tiler=tiler)\n",
    "    \n",
    "    # Print results\n",
    "    print(\">>> Layout:\", layout)\n",
    "    print(\">>> Tiler :\", tiler)\n",
    "    print(\">>> Tiled Divide Result:\", result)\n",
    "    cute.printf(\">?? Tiled Divide Result: {}\", result)\n",
    "\n",
    "tiled_divide_example()"
   ]
  },
  {
   "cell_type": "markdown",
   "metadata": {},
   "source": [
    "- Flat Divide :\n"
   ]
  },
  {
   "cell_type": "code",
   "execution_count": 14,
   "metadata": {},
   "outputs": [
    {
     "name": "stdout",
     "output_type": "stream",
     "text": [
      ">>> Layout: (9,(4,8)):(59,(13,1))\n",
      ">>> Tiler : (<cutlass.cute.core._Layout object at 0x7fc958161430>, <cutlass.cute.core._Layout object at 0x7fc9581610d0>)\n",
      ">>> Flat Divide Result: (3,(2,4),3,(2,2)):(177,(13,2),59,(26,1))\n",
      ">?? Flat Divide Result: (3,(2,4),3,(2,2)):(177,(13,2),59,(26,1))\n"
     ]
    }
   ],
   "source": [
    "@cute.jit\n",
    "def flat_divide_example():\n",
    "    \"\"\"\n",
    "    Demonstrates flat divide :\n",
    "    Layout Shape : (M, N, L, ...)\n",
    "    Tiler Shape  : <TileM, TileN>\n",
    "    Result Shape : (TileM, TileN, RestM, RestN, L, ...)\n",
    "    \"\"\"\n",
    "    # Define the original layout\n",
    "    layout = cute.make_layout((9, (4, 8)), stride=(59, (13, 1)))  # (9,(4,8)):(59,(13,1))\n",
    "    \n",
    "    # Define the tiler\n",
    "    tiler = (cute.make_layout(3, stride=3),            # Apply to mode-0 layout 3:3\n",
    "             cute.make_layout((2, 4), stride=(1, 8)))  # Apply to mode-1 layout (2,4):(1,8)\n",
    "    \n",
    "    # Apply flat divide\n",
    "    result = cute.flat_divide(layout, tiler=tiler)\n",
    "    \n",
    "    # Print results\n",
    "    print(\">>> Layout:\", layout)\n",
    "    print(\">>> Tiler :\", tiler)\n",
    "    print(\">>> Flat Divide Result:\", result)\n",
    "    cute.printf(\">?? Flat Divide Result: {}\", result)\n",
    "\n",
    "flat_divide_example()"
   ]
  },
  {
   "cell_type": "markdown",
   "metadata": {},
   "source": [
    "### 4. Product (Reproducing a Tile)\n",
    "\n",
    "The Product operation in CuTe is used to reproduce one layout according to another layout. It creates a new layout where:\n",
    "\n",
    "- The first mode is the original layout A.\n",
    "- The second mode is a restrided layout B that points to the origin of a \"unique replication\" of A.\n",
    "\n",
    "This is particularly useful for repeating layouts of threads across a tile of data for creating \"repeat\" patterns.\n",
    "\n",
    "#### Examples\n",
    "\n",
    "- Logical Product :\n"
   ]
  },
  {
   "cell_type": "code",
   "execution_count": 15,
   "metadata": {},
   "outputs": [
    {
     "name": "stdout",
     "output_type": "stream",
     "text": [
      ">>> Layout: (2,2):(4,1)\n",
      ">>> Tiler : 6:1\n",
      ">>> Logical Product Result: ((2,2),(2,3)):((4,1),(2,8))\n",
      ">?? Logical Product Result: ((2,2),(2,3)):((4,1),(2,8))\n"
     ]
    }
   ],
   "source": [
    "@cute.jit\n",
    "def logical_product_1d_example():\n",
    "    \"\"\"\n",
    "    Demonstrates 1D logical product\n",
    "    \"\"\"\n",
    "    # Define the original layout\n",
    "    layout = cute.make_layout((2, 2), stride=(4, 1))  # (2,2):(4,1)\n",
    "    \n",
    "    # Define the tiler\n",
    "    tiler = cute.make_layout(6, stride=1)  # Apply to layout 6:1\n",
    "    \n",
    "    # Apply logical product\n",
    "    result = cute.logical_product(layout, tiler=tiler)\n",
    "    \n",
    "    # Print results\n",
    "    print(\">>> Layout:\", layout)\n",
    "    print(\">>> Tiler :\", tiler)\n",
    "    print(\">>> Logical Product Result:\", result)\n",
    "    cute.printf(\">?? Logical Product Result: {}\", result)\n",
    "\n",
    "logical_product_1d_example()"
   ]
  },
  {
   "cell_type": "markdown",
   "metadata": {},
   "source": [
    "- Blocked and Raked Product :\n",
    "\n",
    "  - Blocked Product: Combines the modes of A and B in a block-like fashion, preserving the semantic meaning of the modes by reassociating them after the product.\n",
    "  - Raked Product: Combines the modes of A and B in an interleaved or \"raked\" fashion, creating a cyclic distribution of the tiles.\n"
   ]
  },
  {
   "cell_type": "code",
   "execution_count": 16,
   "metadata": {},
   "outputs": [
    {
     "name": "stdout",
     "output_type": "stream",
     "text": [
      ">>> Layout: (2,5):(5,1)\n",
      ">>> Tiler : (3,4):(1,3)\n",
      ">>> Blocked Product Result: ((2,3),(5,4)):((5,10),(1,30))\n",
      ">>> Raked Product Result: ((3,2),(4,5)):((10,5),(30,1))\n",
      ">?? Blocked Product Result: ((2,3),(5,4)):((5,10),(1,30))\n",
      ">?? Raked Product Result: ((3,2),(4,5)):((10,5),(30,1))\n"
     ]
    }
   ],
   "source": [
    "@cute.jit\n",
    "def blocked_raked_product_example():\n",
    "    \"\"\"\n",
    "    Demonstrates blocked and raked products\n",
    "    \"\"\"\n",
    "    # Define the original layout\n",
    "    layout = cute.make_layout((2, 5), stride=(5, 1))\n",
    "    \n",
    "    # Define the tiler\n",
    "    tiler = cute.make_layout((3, 4), stride=(1, 3))\n",
    "    \n",
    "    # Apply blocked product\n",
    "    blocked_result = cute.blocked_product(layout, tiler=tiler)\n",
    "\n",
    "    # Apply raked product\n",
    "    raked_result = cute.raked_product(layout, tiler=tiler)\n",
    "    \n",
    "    # Print results\n",
    "    print(\">>> Layout:\", layout)\n",
    "    print(\">>> Tiler :\", tiler)\n",
    "    print(\">>> Blocked Product Result:\", blocked_result)\n",
    "    print(\">>> Raked Product Result:\", raked_result)\n",
    "    cute.printf(\">?? Blocked Product Result: {}\", blocked_result)\n",
    "    cute.printf(\">?? Raked Product Result: {}\", raked_result)\n",
    "\n",
    "blocked_raked_product_example()"
   ]
  },
  {
   "cell_type": "markdown",
   "metadata": {},
   "source": [
    "- Zipped, tiled, and flat product :\n",
    "\n",
    "  - Similar to divide operations, zipped, tiled, and flat product are flavors of `logical_product` that potentially rearrange modes into more convenient forms.\n"
   ]
  },
  {
   "cell_type": "code",
   "execution_count": 17,
   "metadata": {},
   "outputs": [
    {
     "name": "stdout",
     "output_type": "stream",
     "text": [
      ">>> Layout: (2,5):(5,1)\n",
      ">>> Tiler : (3,4):(1,3)\n",
      ">>> Zipped Product Result: ((2,5),(3,4)):((5,1),(10,30))\n",
      ">>> Tiled Product Result: ((2,5),3,4):((5,1),10,30)\n",
      ">>> Flat Product Result: (2,5,3,4):(5,1,10,30)\n",
      ">?? Zipped Product Result: ((2,5),(3,4)):((5,1),(10,30))\n",
      ">?? Tiled Product Result: ((2,5),3,4):((5,1),10,30)\n",
      ">?? Flat Product Result: (2,5,3,4):(5,1,10,30)\n"
     ]
    }
   ],
   "source": [
    "@cute.jit\n",
    "def zipped_tiled_flat_product_example():\n",
    "    \"\"\"\n",
    "    Demonstrates zipped, tiled, and flat products\n",
    "    Layout Shape : (M, N, L, ...)\n",
    "    Tiler Shape  : <TileM, TileN>\n",
    "\n",
    "    zipped_product  : ((M,N), (TileM,TileN,L,...))\n",
    "    tiled_product   : ((M,N), TileM, TileN, L, ...)\n",
    "    flat_product    : (M, N, TileM, TileN, L, ...)\n",
    "    \"\"\"\n",
    "    # Define the original layout\n",
    "    layout = cute.make_layout((2, 5), stride=(5, 1))\n",
    "    \n",
    "    # Define the tiler\n",
    "    tiler = cute.make_layout((3, 4), stride=(1, 3))\n",
    "\n",
    "    # Apply zipped product\n",
    "    zipped_result = cute.zipped_product(layout, tiler=tiler)\n",
    "    \n",
    "    # Apply tiled product\n",
    "    tiled_result = cute.tiled_product(layout, tiler=tiler)\n",
    "    \n",
    "    # Apply flat product\n",
    "    flat_result = cute.flat_product(layout, tiler=tiler)\n",
    "\n",
    "    # Print results\n",
    "    print(\">>> Layout:\", layout)\n",
    "    print(\">>> Tiler :\", tiler)\n",
    "    print(\">>> Zipped Product Result:\", zipped_result)\n",
    "    print(\">>> Tiled Product Result:\", tiled_result)\n",
    "    print(\">>> Flat Product Result:\", flat_result)\n",
    "    cute.printf(\">?? Zipped Product Result: {}\", zipped_result)\n",
    "    cute.printf(\">?? Tiled Product Result: {}\", tiled_result)\n",
    "    cute.printf(\">?? Flat Product Result: {}\", flat_result)\n",
    "\n",
    "zipped_tiled_flat_product_example()"
   ]
  }
 ],
 "metadata": {
  "kernelspec": {
   "display_name": ".cute-dsl-venv",
   "language": "python",
   "name": "python3"
  },
  "language_info": {
   "codemirror_mode": {
    "name": "ipython",
    "version": 3
   },
   "file_extension": ".py",
   "mimetype": "text/x-python",
   "name": "python",
   "nbconvert_exporter": "python",
   "pygments_lexer": "ipython3",
   "version": "3.12.8"
  }
 },
 "nbformat": 4,
 "nbformat_minor": 2
}
