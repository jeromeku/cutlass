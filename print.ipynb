{
 "cells": [
  {
   "cell_type": "markdown",
   "metadata": {},
   "source": [
    "# Printing with CuTe DSL\n",
    "\n",
    "This notebook demonstrates the different ways to print values in CuTe and explains the important distinction between static (compile-time) and dynamic (runtime) values.\n",
    "\n",
    "## Key Concepts\n",
    "- Static values: Known at compile time\n",
    "- Dynamic values: Only known at runtime\n",
    "- Different printing methods for different scenarios\n",
    "- Layout representation in CuTe\n",
    "- Tensor visualization and formatting"
   ]
  },
  {
   "cell_type": "code",
   "execution_count": 1,
   "metadata": {},
   "outputs": [],
   "source": [
    "import cutlass\n",
    "import cutlass.cute as cute\n",
    "import numpy as np"
   ]
  },
  {
   "cell_type": "markdown",
   "metadata": {},
   "source": [
    "## Print Example Function\n",
    "\n",
    "The `print_example` function demonstrates several important concepts:\n",
    "\n",
    "### 1. Python's `print` vs CuTe's `cute.printf`\n",
    "- `print`: Can only show static values at compile time\n",
    "- `cute.printf`: Can display both static and dynamic values at runtime\n",
    "\n",
    "### 2. Value Types\n",
    "- `a`: Dynamic `Int32` value (runtime)\n",
    "- `b`: Static `Constexpr[int]` value (compile-time)\n",
    "\n",
    "### 3. Layout Printing\n",
    "Shows how layouts are represented differently in static vs dynamic contexts:\n",
    "- Static context: Unknown values shown as `?`\n",
    "- Dynamic context: Actual values displayed"
   ]
  },
  {
   "cell_type": "markdown",
   "metadata": {},
   "source": [
    "## Compile and Run\n",
    "\n",
    "**Direct Compilation and Run**\n",
    "  - `print_example(cutlass.Int32(8), 2)`\n",
    "  - Compiles and runs in one step will execute both static and dynamic print\n",
    "    * `>>>` stands for static print\n",
    "    * `>??` stands for dynamic print"
   ]
  },
  {
   "cell_type": "code",
   "execution_count": null,
   "metadata": {},
   "outputs": [
    {
     "data": {
      "text/plain": [
       "<function __main__.print_tiled_copy()>"
      ]
     },
     "execution_count": 2,
     "metadata": {},
     "output_type": "execute_result"
    }
   ],
   "source": [
    "@cute.jit\n",
    "def print_tiled_copy():\n",
    "    thr_layout = cute.make_layout(shape=(4, 32), stride=(32, 1)) # // (32,8) -> thr_idx\n",
    "    val_layout = cute.make_layout(shape=(1,8))\n",
    "    layout_mn = cute.raked_product(thr_layout, val_layout)\n",
    "    right_layout = cute.right_inverse(layout_mn)\n",
    "    layout_tv = cute.composition(layout_mn, cute.make_layout(shape=(cute.size(thr_layout), cute.size(val_layout))))\n",
    "\n",
    "    cute.printf(\"thr_layout {}\", thr_layout)\n",
    "    cute.printf(\"val layout {}\", val_layout)\n",
    "    cute.printf(\"layout_mn {}\", layout_mn)\n",
    "    cute.printf(\"right layout {}\", right_layout)\n",
    "    cute.printf(\"layout_tv {}\", layout_tv)   # => (8,2):(1,8)\n",
    "\n"
   ]
  },
  {
   "cell_type": "code",
   "execution_count": 3,
   "metadata": {},
   "outputs": [
    {
     "ename": "DSLRuntimeError",
     "evalue": "DSLRuntimeError: 💥💥💥 Error during runtime code generation for function `print_tiled_copy` 💥💥💥",
     "output_type": "error",
     "traceback": [
      "\u001b[31m---------------------------------------------------------------------------\u001b[39m",
      "\u001b[31mTypeError\u001b[39m                                 Traceback (most recent call last)",
      "\u001b[36mFile \u001b[39m\u001b[32m~/cutlass/.venv/lib/python3.12/site-packages/nvidia_cutlass_dsl/python_packages/cutlass/base_dsl/dsl.py:1061\u001b[39m, in \u001b[36mBaseDSL.generate_original_ir.<locals>.build_ir_module\u001b[39m\u001b[34m()\u001b[39m\n\u001b[32m   1060\u001b[39m \u001b[38;5;28;01mtry\u001b[39;00m:\n\u001b[32m-> \u001b[39m\u001b[32m1061\u001b[39m     result = \u001b[43mfuncBody\u001b[49m\u001b[43m(\u001b[49m\u001b[43m*\u001b[49m\u001b[43mir_args\u001b[49m\u001b[43m,\u001b[49m\u001b[43m \u001b[49m\u001b[43m*\u001b[49m\u001b[43m*\u001b[49m\u001b[43mir_kwargs\u001b[49m\u001b[43m)\u001b[49m\n\u001b[32m   1062\u001b[39m     func.ReturnOp([])\n",
      "\u001b[36mCell\u001b[39m\u001b[36m \u001b[39m\u001b[32mIn[2]\u001b[39m\u001b[32m, line 3\u001b[39m, in \u001b[36mprint_tiled_copy\u001b[39m\u001b[34m()\u001b[39m\n\u001b[32m      1\u001b[39m \u001b[38;5;129m@cute\u001b[39m.jit\n\u001b[32m      2\u001b[39m \u001b[38;5;28;01mdef\u001b[39;00m\u001b[38;5;250m \u001b[39m\u001b[34mprint_tiled_copy\u001b[39m():\n\u001b[32m----> \u001b[39m\u001b[32m3\u001b[39m     thr_layout = \u001b[43mcute\u001b[49m\u001b[43m.\u001b[49m\u001b[43mmake_layout\u001b[49m\u001b[43m(\u001b[49m\u001b[43m(\u001b[49m\u001b[32;43m4\u001b[39;49m\u001b[43m,\u001b[49m\u001b[43m \u001b[49m\u001b[32;43m32\u001b[39;49m\u001b[43m)\u001b[49m\u001b[43m,\u001b[49m\u001b[43m \u001b[49m\u001b[43m(\u001b[49m\u001b[32;43m32\u001b[39;49m\u001b[43m,\u001b[49m\u001b[43m \u001b[49m\u001b[32;43m1\u001b[39;49m\u001b[43m)\u001b[49m\u001b[43m)\u001b[49m \u001b[38;5;66;03m# // (32,8) -> thr_idx\u001b[39;00m\n\u001b[32m      4\u001b[39m     val_layout = cute.make_layout((\u001b[32m1\u001b[39m,\u001b[32m8\u001b[39m))\n",
      "\u001b[36mFile \u001b[39m\u001b[32m~/cutlass/.venv/lib/python3.12/site-packages/nvidia_cutlass_dsl/python_packages/cutlass/base_dsl/_mlir_helpers/op.py:31\u001b[39m, in \u001b[36mdsl_user_op.<locals>.wrapper\u001b[39m\u001b[34m(*args, **kwargs)\u001b[39m\n\u001b[32m     30\u001b[39m     loc = ir.Location.name(frame.f_code.co_name, childLoc=file_loc)\n\u001b[32m---> \u001b[39m\u001b[32m31\u001b[39m res_or_list = \u001b[43mopFunc\u001b[49m\u001b[43m(\u001b[49m\u001b[43m*\u001b[49m\u001b[43margs\u001b[49m\u001b[43m,\u001b[49m\u001b[43m \u001b[49m\u001b[43m*\u001b[49m\u001b[43m*\u001b[49m\u001b[43mkwargs\u001b[49m\u001b[43m,\u001b[49m\u001b[43m \u001b[49m\u001b[43mloc\u001b[49m\u001b[43m=\u001b[49m\u001b[43mloc\u001b[49m\u001b[43m)\u001b[49m\n\u001b[32m     32\u001b[39m \u001b[38;5;28;01mreturn\u001b[39;00m res_or_list\n",
      "\u001b[31mTypeError\u001b[39m: make_layout() takes 1 positional argument but 2 positional arguments (and 1 keyword-only argument) were given",
      "\nThe above exception was the direct cause of the following exception:\n",
      "\u001b[31mDSLRuntimeError\u001b[39m                           Traceback (most recent call last)",
      "\u001b[36mCell\u001b[39m\u001b[36m \u001b[39m\u001b[32mIn[3]\u001b[39m\u001b[32m, line 1\u001b[39m\n\u001b[32m----> \u001b[39m\u001b[32m1\u001b[39m \u001b[43mprint_tiled_copy\u001b[49m\u001b[43m(\u001b[49m\u001b[43m)\u001b[49m\n",
      "\u001b[36mFile \u001b[39m\u001b[32m~/cutlass/.venv/lib/python3.12/site-packages/nvidia_cutlass_dsl/python_packages/cutlass/base_dsl/dsl.py:429\u001b[39m, in \u001b[36mBaseDSL.jit_runner.<locals>.jit_runner_decorator.<locals>.jit_wrapper\u001b[39m\u001b[34m(*args, **kwargs)\u001b[39m\n\u001b[32m    426\u001b[39m \u001b[38;5;129m@wraps\u001b[39m(func)\n\u001b[32m    427\u001b[39m \u001b[38;5;28;01mdef\u001b[39;00m\u001b[38;5;250m \u001b[39m\u001b[34mjit_wrapper\u001b[39m(*args, **kwargs):\n\u001b[32m    428\u001b[39m     func_ptr = BaseDSL._preprocess_and_execute(func)\n\u001b[32m--> \u001b[39m\u001b[32m429\u001b[39m     \u001b[38;5;28;01mreturn\u001b[39;00m \u001b[43mexecutor\u001b[49m\u001b[43m(\u001b[49m\u001b[43mfunc_ptr\u001b[49m\u001b[43m,\u001b[49m\u001b[43m \u001b[49m\u001b[43m*\u001b[49m\u001b[43margs\u001b[49m\u001b[43m,\u001b[49m\u001b[43m \u001b[49m\u001b[43m*\u001b[49m\u001b[43m*\u001b[49m\u001b[43mkwargs\u001b[49m\u001b[43m)\u001b[49m\n",
      "\u001b[36mFile \u001b[39m\u001b[32m~/cutlass/.venv/lib/python3.12/site-packages/nvidia_cutlass_dsl/python_packages/cutlass/base_dsl/dsl.py:1337\u001b[39m, in \u001b[36mBaseDSL._func\u001b[39m\u001b[34m(self, funcBody, *args, **kwargs)\u001b[39m\n\u001b[32m   1335\u001b[39m \u001b[38;5;66;03m# Generate MLIR Context and start generating IR\u001b[39;00m\n\u001b[32m   1336\u001b[39m log().debug(\u001b[33mf\u001b[39m\u001b[33m\"\u001b[39m\u001b[33mGenerating MLIR for function \u001b[39m\u001b[33m'\u001b[39m\u001b[38;5;132;01m{\u001b[39;00mfunction_name\u001b[38;5;132;01m}\u001b[39;00m\u001b[33m'\u001b[39m\u001b[33m\"\u001b[39m)\n\u001b[32m-> \u001b[39m\u001b[32m1337\u001b[39m result = \u001b[38;5;28;43mself\u001b[39;49m\u001b[43m.\u001b[49m\u001b[43mgenerate_mlir\u001b[49m\u001b[43m(\u001b[49m\n\u001b[32m   1338\u001b[39m \u001b[43m    \u001b[49m\u001b[43mfuncBody\u001b[49m\u001b[43m,\u001b[49m\n\u001b[32m   1339\u001b[39m \u001b[43m    \u001b[49m\u001b[43mcanonicalized_kwargs\u001b[49m\u001b[43m,\u001b[49m\n\u001b[32m   1340\u001b[39m \u001b[43m    \u001b[49m\u001b[43mfunction_name\u001b[49m\u001b[43m,\u001b[49m\n\u001b[32m   1341\u001b[39m \u001b[43m    \u001b[49m\u001b[43mgpu_module_attrs\u001b[49m\u001b[43m,\u001b[49m\n\u001b[32m   1342\u001b[39m \u001b[43m    \u001b[49m\u001b[43mcanonicalized_args\u001b[49m\u001b[43m,\u001b[49m\n\u001b[32m   1343\u001b[39m \u001b[43m    \u001b[49m\u001b[43margs_spec\u001b[49m\u001b[43m,\u001b[49m\n\u001b[32m   1344\u001b[39m \u001b[43m    \u001b[49m\u001b[43mpipeline\u001b[49m\u001b[43m,\u001b[49m\n\u001b[32m   1345\u001b[39m \u001b[43m    \u001b[49m\u001b[43mno_cache\u001b[49m\u001b[43m,\u001b[49m\n\u001b[32m   1346\u001b[39m \u001b[43m    \u001b[49m\u001b[43mcompile_only\u001b[49m\u001b[43m,\u001b[49m\n\u001b[32m   1347\u001b[39m \u001b[43m\u001b[49m\u001b[43m)\u001b[49m\n\u001b[32m   1349\u001b[39m \u001b[38;5;28;01mreturn\u001b[39;00m result\n",
      "\u001b[36mFile \u001b[39m\u001b[32m~/cutlass/.venv/lib/python3.12/site-packages/nvidia_cutlass_dsl/python_packages/cutlass/base_dsl/dsl.py:1166\u001b[39m, in \u001b[36mBaseDSL.generate_mlir\u001b[39m\u001b[34m(self, funcBody, kwargs, function_name, gpu_module_attrs, args, args_spec, pipeline, no_cache, compile_only, loc)\u001b[39m\n\u001b[32m   1161\u001b[39m exe_args, func_types = \u001b[38;5;28mself\u001b[39m.generate_mlir_function_types(\n\u001b[32m   1162\u001b[39m     funcBody, function_name, args, kwargs, args_spec\n\u001b[32m   1163\u001b[39m )\n\u001b[32m   1165\u001b[39m \u001b[38;5;66;03m# Generate original ir module and its hash value.\u001b[39;00m\n\u001b[32m-> \u001b[39m\u001b[32m1166\u001b[39m module, module_hash, result = \u001b[38;5;28;43mself\u001b[39;49m\u001b[43m.\u001b[49m\u001b[43mgenerate_original_ir\u001b[49m\u001b[43m(\u001b[49m\n\u001b[32m   1167\u001b[39m \u001b[43m    \u001b[49m\u001b[43mir\u001b[49m\u001b[43m,\u001b[49m\n\u001b[32m   1168\u001b[39m \u001b[43m    \u001b[49m\u001b[43mfunc\u001b[49m\u001b[43m,\u001b[49m\n\u001b[32m   1169\u001b[39m \u001b[43m    \u001b[49m\u001b[43mfuncBody\u001b[49m\u001b[43m,\u001b[49m\n\u001b[32m   1170\u001b[39m \u001b[43m    \u001b[49m\u001b[43mkwargs\u001b[49m\u001b[43m,\u001b[49m\n\u001b[32m   1171\u001b[39m \u001b[43m    \u001b[49m\u001b[43mfunction_name\u001b[49m\u001b[43m,\u001b[49m\n\u001b[32m   1172\u001b[39m \u001b[43m    \u001b[49m\u001b[43mfunc_types\u001b[49m\u001b[43m,\u001b[49m\n\u001b[32m   1173\u001b[39m \u001b[43m    \u001b[49m\u001b[43mgpu_module_attrs\u001b[49m\u001b[43m,\u001b[49m\n\u001b[32m   1174\u001b[39m \u001b[43m    \u001b[49m\u001b[43margs\u001b[49m\u001b[43m,\u001b[49m\n\u001b[32m   1175\u001b[39m \u001b[43m    \u001b[49m\u001b[43margs_spec\u001b[49m\u001b[43m,\u001b[49m\n\u001b[32m   1176\u001b[39m \u001b[43m\u001b[49m\u001b[43m)\u001b[49m\n\u001b[32m   1178\u001b[39m \u001b[38;5;66;03m# dryrun is used to only generate IR\u001b[39;00m\n\u001b[32m   1179\u001b[39m \u001b[38;5;28;01mif\u001b[39;00m \u001b[38;5;28mself\u001b[39m.envar.dryrun:\n",
      "\u001b[36mFile \u001b[39m\u001b[32m~/cutlass/.venv/lib/python3.12/site-packages/nvidia_cutlass_dsl/python_packages/cutlass/base_dsl/dsl.py:1083\u001b[39m, in \u001b[36mBaseDSL.generate_original_ir\u001b[39m\u001b[34m(self, ir, func, funcBody, kwargs, function_name, func_types, gpu_module_attrs, args, args_spec)\u001b[39m\n\u001b[32m   1081\u001b[39m \u001b[38;5;66;03m# Build IR module\u001b[39;00m\n\u001b[32m   1082\u001b[39m profiler = timer(enable=\u001b[38;5;28mself\u001b[39m.envar.jitTimeProfiling)\n\u001b[32m-> \u001b[39m\u001b[32m1083\u001b[39m module, result = \u001b[43mprofiler\u001b[49m\u001b[43m(\u001b[49m\u001b[43mbuild_ir_module\u001b[49m\u001b[43m)\u001b[49m\u001b[43m(\u001b[49m\u001b[43m)\u001b[49m\n\u001b[32m   1084\u001b[39m module_hash = \u001b[38;5;28mself\u001b[39m.get_module_hash(module, function_name)\n\u001b[32m   1086\u001b[39m module = \u001b[38;5;28mself\u001b[39m.build_module(module, function_name)\n",
      "\u001b[36mFile \u001b[39m\u001b[32m~/cutlass/.venv/lib/python3.12/site-packages/nvidia_cutlass_dsl/python_packages/cutlass/base_dsl/utils/timer.py:28\u001b[39m, in \u001b[36mtimer.<locals>.decorator.<locals>.func_wrapper\u001b[39m\u001b[34m(*args, **kwargs)\u001b[39m\n\u001b[32m     25\u001b[39m \u001b[38;5;129m@wraps\u001b[39m(func)\n\u001b[32m     26\u001b[39m \u001b[38;5;28;01mdef\u001b[39;00m\u001b[38;5;250m \u001b[39m\u001b[34mfunc_wrapper\u001b[39m(*args, **kwargs):\n\u001b[32m     27\u001b[39m     \u001b[38;5;28;01mif\u001b[39;00m \u001b[38;5;129;01mnot\u001b[39;00m enable:\n\u001b[32m---> \u001b[39m\u001b[32m28\u001b[39m         \u001b[38;5;28;01mreturn\u001b[39;00m \u001b[43mfunc\u001b[49m\u001b[43m(\u001b[49m\u001b[43m*\u001b[49m\u001b[43margs\u001b[49m\u001b[43m,\u001b[49m\u001b[43m \u001b[49m\u001b[43m*\u001b[49m\u001b[43m*\u001b[49m\u001b[43mkwargs\u001b[49m\u001b[43m)\u001b[49m\n\u001b[32m     29\u001b[39m     \u001b[38;5;28;01mfrom\u001b[39;00m\u001b[38;5;250m \u001b[39m\u001b[34;01mtime\u001b[39;00m\u001b[38;5;250m \u001b[39m\u001b[38;5;28;01mimport\u001b[39;00m time\n\u001b[32m     31\u001b[39m     start = time()\n",
      "\u001b[36mFile \u001b[39m\u001b[32m~/cutlass/.venv/lib/python3.12/site-packages/nvidia_cutlass_dsl/python_packages/cutlass/base_dsl/dsl.py:1076\u001b[39m, in \u001b[36mBaseDSL.generate_original_ir.<locals>.build_ir_module\u001b[39m\u001b[34m()\u001b[39m\n\u001b[32m   1073\u001b[39m             \u001b[38;5;28;01mraise\u001b[39;00m dsl_error\n\u001b[32m   1074\u001b[39m         \u001b[38;5;28;01mexcept\u001b[39;00m \u001b[38;5;167;01mException\u001b[39;00m \u001b[38;5;28;01mas\u001b[39;00m general_e:\n\u001b[32m   1075\u001b[39m             \u001b[38;5;66;03m# Transform internal error to a DSL error\u001b[39;00m\n\u001b[32m-> \u001b[39m\u001b[32m1076\u001b[39m             \u001b[38;5;28;01mraise\u001b[39;00m DSLRuntimeError(\n\u001b[32m   1077\u001b[39m                 \u001b[33mf\u001b[39m\u001b[33m\"\u001b[39m\u001b[33m💥💥💥 Error during runtime code generation for function `\u001b[39m\u001b[38;5;132;01m{\u001b[39;00mfuncBody.\u001b[34m__name__\u001b[39m\u001b[38;5;132;01m}\u001b[39;00m\u001b[33m` 💥💥💥\u001b[39m\u001b[33m\"\u001b[39m\n\u001b[32m   1078\u001b[39m             ) \u001b[38;5;28;01mfrom\u001b[39;00m\u001b[38;5;250m \u001b[39m\u001b[34;01mgeneral_e\u001b[39;00m\n\u001b[32m   1079\u001b[39m \u001b[38;5;28;01mreturn\u001b[39;00m module, result\n",
      "\u001b[31mDSLRuntimeError\u001b[39m: DSLRuntimeError: 💥💥💥 Error during runtime code generation for function `print_tiled_copy` 💥💥💥"
     ]
    }
   ],
   "source": [
    "print_tiled_copy()"
   ]
  },
  {
   "cell_type": "markdown",
   "metadata": {},
   "source": [
    "## Compile Function\n",
    "\n",
    "When compiles the function with `cute.compile(print_example, cutlass.Int32(8), 2)`, Python interpreter \n",
    "traces code and only evaluate static expression and print static information."
   ]
  },
  {
   "cell_type": "code",
   "execution_count": 4,
   "metadata": {},
   "outputs": [
    {
     "name": "stdout",
     "output_type": "stream",
     "text": [
      ">>> 2\n",
      ">>> ?\n",
      ">>> Int32\n",
      ">>> <class 'int'>\n",
      ">>> (?,2):(1,?)\n"
     ]
    }
   ],
   "source": [
    "print_example_compiled = cute.compile(print_example, cutlass.Int32(8), 2)"
   ]
  },
  {
   "cell_type": "markdown",
   "metadata": {},
   "source": [
    "## Call compiled function\n",
    "\n",
    "Only print out runtime information"
   ]
  },
  {
   "cell_type": "code",
   "execution_count": 5,
   "metadata": {},
   "outputs": [
    {
     "name": "stdout",
     "output_type": "stream",
     "text": [
      ">?? 8\n",
      ">?? 2\n",
      ">?? (8,2):(1,8)\n"
     ]
    }
   ],
   "source": [
    "print_example_compiled(cutlass.Int32(8))"
   ]
  },
  {
   "cell_type": "markdown",
   "metadata": {},
   "source": [
    "## Format String Example\n",
    "\n",
    "The `format_string_example` function shows an important limitation:\n",
    "- F-strings in CuTe are evaluated at compile time\n",
    "- This means dynamic values won't show their runtime values in f-strings\n",
    "- Use `cute.printf` when you need to see runtime values"
   ]
  },
  {
   "cell_type": "code",
   "execution_count": 6,
   "metadata": {},
   "outputs": [
    {
     "name": "stdout",
     "output_type": "stream",
     "text": [
      "Direct run output:\n",
      "a: ?, b: 2\n",
      "layout: (?,2):(1,?)\n"
     ]
    }
   ],
   "source": [
    "@cute.jit\n",
    "def format_string_example(a: cutlass.Int32, b: cutlass.Constexpr[int]):\n",
    "    \"\"\"\n",
    "    Format string is evaluated at compile time.\n",
    "    \"\"\"\n",
    "    print(f\"a: {a}, b: {b}\")\n",
    "\n",
    "    layout = cute.make_layout((a, b))\n",
    "    print(f\"layout: {layout}\")\n",
    "\n",
    "print(\"Direct run output:\")\n",
    "format_string_example(cutlass.Int32(8), 2)"
   ]
  },
  {
   "cell_type": "markdown",
   "metadata": {},
   "source": [
    "## Printing Tensor Examples\n",
    "\n",
    "CuTe provides specialized functionality for printing tensors through the `print_tensor` operation. The `cute.print_tensor` takes the following parameter:\n",
    "- `Tensor` (required): A CuTe tensor object that you want to print. The tensor must support load and store operations\n",
    "- `verbose` (optional, default=False): A boolean flag that controls the level of detail in the output. When set to True, it will print indices details for each element in the tensor.\n",
    "\n",
    "Below example code shows the difference between verbose ON and OFF, and how to print a sub range of the given tensor."
   ]
  },
  {
   "cell_type": "code",
   "execution_count": 7,
   "metadata": {},
   "outputs": [],
   "source": [
    "from cutlass.cute.runtime import from_dlpack\n",
    "\n",
    "@cute.jit\n",
    "def print_tensor_basic(x : cute.Tensor):\n",
    "    # Print the tensor\n",
    "    print(\"Basic output:\")\n",
    "    cute.print_tensor(x)\n",
    "    \n",
    "@cute.jit\n",
    "def print_tensor_verbose(x : cute.Tensor):\n",
    "    # Print the tensor with verbose mode\n",
    "    print(\"Verbose output:\")\n",
    "    cute.print_tensor(x, verbose=True)\n",
    "\n",
    "@cute.jit\n",
    "def print_tensor_slice(x : cute.Tensor, coord : tuple):\n",
    "    # slice a 2D tensor from the 3D tensor\n",
    "    sliced_data = cute.slice_(x, coord)\n",
    "    y = cute.make_fragment(sliced_data.layout, sliced_data.element_type)\n",
    "    # Convert to TensorSSA format by loading the sliced data into the fragment\n",
    "    y.store(sliced_data.load())\n",
    "    print(\"Slice output:\")\n",
    "    cute.print_tensor(y)"
   ]
  },
  {
   "cell_type": "markdown",
   "metadata": {},
   "source": [
    "The default `cute.print_tensor` will output CuTe tensor with datatype, storage space, CuTe layout information, and print data in torch-style format."
   ]
  },
  {
   "cell_type": "code",
   "execution_count": 8,
   "metadata": {},
   "outputs": [
    {
     "name": "stdout",
     "output_type": "stream",
     "text": [
      "Basic output:\n",
      "tensor(raw_ptr(0x000000000a5f1d50: f32, generic, align<4>) o (4,3,2):(6,2,1), data=\n",
      "       [[[ 0.000000,  2.000000,  4.000000, ],\n",
      "         [ 6.000000,  8.000000,  10.000000, ],\n",
      "         [ 12.000000,  14.000000,  16.000000, ],\n",
      "         [ 18.000000,  20.000000,  22.000000, ]],\n",
      "\n",
      "        [[ 1.000000,  3.000000,  5.000000, ],\n",
      "         [ 7.000000,  9.000000,  11.000000, ],\n",
      "         [ 13.000000,  15.000000,  17.000000, ],\n",
      "         [ 19.000000,  21.000000,  23.000000, ]]])\n"
     ]
    }
   ],
   "source": [
    "def tensor_print_example1():\n",
    "    shape = (4, 3, 2)\n",
    "    \n",
    "    # Creates [0,...,23] and reshape to (4, 3, 2)\n",
    "    data = np.arange(24, dtype=np.float32).reshape(*shape) \n",
    "      \n",
    "    print_tensor_basic(from_dlpack(data))\n",
    "\n",
    "tensor_print_example1()"
   ]
  },
  {
   "cell_type": "markdown",
   "metadata": {},
   "source": [
    "The verbosed print will show coodination details of each element in the tensor. The below example shows how we index element in a 2D 4x3 tensor space."
   ]
  },
  {
   "cell_type": "code",
   "execution_count": 9,
   "metadata": {},
   "outputs": [
    {
     "name": "stdout",
     "output_type": "stream",
     "text": [
      "Verbose output:\n",
      "tensor(raw_ptr(0x000000000a814cc0: f32, generic, align<4>) o (4,3):(3,1), data= (\n",
      "\t(0,0)= 0.000000\n",
      "\t(0,1)= 1.000000\n",
      "\t(0,2)= 2.000000\n",
      "\t(1,0)= 3.000000\n",
      "\t(1,1)= 4.000000\n",
      "\t(1,2)= 5.000000\n",
      "\t(2,0)= 6.000000\n",
      "\t(2,1)= 7.000000\n",
      "\t(2,2)= 8.000000\n",
      "\t(3,0)= 9.000000\n",
      "\t(3,1)= 10.000000\n",
      "\t(3,2)= 11.000000\n",
      ")\n"
     ]
    }
   ],
   "source": [
    "def tensor_print_example2():\n",
    "    shape = (4, 3)\n",
    "    \n",
    "    # Creates [0,...,11] and reshape to (4, 3)\n",
    "    data = np.arange(12, dtype=np.float32).reshape(*shape) \n",
    "      \n",
    "    print_tensor_verbose(from_dlpack(data))\n",
    "\n",
    "tensor_print_example2()"
   ]
  },
  {
   "cell_type": "markdown",
   "metadata": {},
   "source": [
    "To print a subset elements in the given Tensor, we can use cute.slice_ to select a range of the given tensor, load them into register and then print the values with `cute.print_tensor`."
   ]
  },
  {
   "cell_type": "code",
   "execution_count": 10,
   "metadata": {},
   "outputs": [
    {
     "name": "stdout",
     "output_type": "stream",
     "text": [
      "Slice output:\n",
      "tensor(raw_ptr(0x00007ffeeae1fc60: f32, rmem, align<32>) o (4):(3), data=\n",
      "       [ 0.000000, ],\n",
      "       [ 3.000000, ],\n",
      "       [Slice output:\n",
      " 6.000000, ],\n",
      "       [ 9.000000, ])\n",
      "tensor(raw_ptr(0x00007ffeeae1fc60: f32, rmem, align<32>) o (3):(1), data=\n",
      "       [ 3.000000, ],\n",
      "       [ 4.000000, ],\n",
      "       [ 5.000000, ])\n"
     ]
    }
   ],
   "source": [
    "def tensor_print_example3():\n",
    "    shape = (4, 3)\n",
    "    \n",
    "    # Creates [0,...,11] and reshape to (4, 3)\n",
    "    data = np.arange(12, dtype=np.float32).reshape(*shape) \n",
    "      \n",
    "    print_tensor_slice(from_dlpack(data), (None, 0))\n",
    "    print_tensor_slice(from_dlpack(data), (1, None))\n",
    "\n",
    "tensor_print_example3()"
   ]
  }
 ],
 "metadata": {
  "kernelspec": {
   "display_name": ".venv",
   "language": "python",
   "name": "python3"
  },
  "language_info": {
   "codemirror_mode": {
    "name": "ipython",
    "version": 3
   },
   "file_extension": ".py",
   "mimetype": "text/x-python",
   "name": "python",
   "nbconvert_exporter": "python",
   "pygments_lexer": "ipython3",
   "version": "3.12.8"
  }
 },
 "nbformat": 4,
 "nbformat_minor": 4
}
