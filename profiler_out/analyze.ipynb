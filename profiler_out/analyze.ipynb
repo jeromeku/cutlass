{
 "cells": [
  {
   "cell_type": "code",
   "execution_count": 1,
   "metadata": {},
   "outputs": [],
   "source": [
    "import pandas as pd\n",
    "\n",
    "pd.options.display.max_colwidth = 100\n",
    "pd.options.display.max_columns = 100\n",
    "input_file = \"4096x5120x4096.gemm.csv\"\n",
    "no_search_input = \"./no_search/4096x5120x4096.gemm.csv\""
   ]
  },
  {
   "cell_type": "code",
   "execution_count": 2,
   "metadata": {},
   "outputs": [],
   "source": [
    "COLS_TO_DROP = [\n",
    "    \"Problem\",\n",
    "    \"Provider\",\n",
    "    \"OperationKind\",\n",
    "    \"gemm_kind\",\n",
    "    \"alpha\",\n",
    "    \"beta\",\n",
    "    \"enable_sm90_mixed_dtype_shuffle_test\",\n",
    "    \"min_cc\",\n",
    "    \"max_cc\",\n",
    "    \"op_class\",\n",
    "    \"Bytes\",\n",
    "    \"Flops\",\n",
    "    \"Runtime\",\n",
    "    \"C\",\n",
    "]\n",
    "\n",
    "\n",
    "def load_df(path: str, cols_to_drop=COLS_TO_DROP):\n",
    "    df = pd.read_csv(path)\n",
    "    df = df.copy()\n",
    "    df = df.drop(\n",
    "        labels=cols_to_drop,\n",
    "        axis=1,\n",
    "    )\n",
    "    df.sort_values(by=\"GFLOPs\", ascending=False, inplace=True)\n",
    "    return df"
   ]
  },
  {
   "cell_type": "code",
   "execution_count": 3,
   "metadata": {},
   "outputs": [],
   "source": [
    "df_search = load_df(input_file)\n",
    "df_no_search = load_df(no_search_input)"
   ]
  },
  {
   "cell_type": "code",
   "execution_count": 17,
   "metadata": {},
   "outputs": [
    {
     "data": {
      "text/plain": [
       "512    857336.0\n",
       "97     853791.0\n",
       "121    851049.0\n",
       "153    850498.0\n",
       "528    844604.0\n",
       "Name: GFLOPs, dtype: float64"
      ]
     },
     "execution_count": 17,
     "metadata": {},
     "output_type": "execute_result"
    }
   ],
   "source": [
    "df_search.swizzle_size.unique(), df_search.raster_order.unique()\n",
    "df_search.head().GFLOPs"
   ]
  },
  {
   "cell_type": "code",
   "execution_count": 16,
   "metadata": {},
   "outputs": [
    {
     "data": {
      "text/plain": [
       "512    851492.0\n",
       "153    845995.0\n",
       "520    845690.0\n",
       "514    836437.0\n",
       "155    832742.0\n",
       "Name: GFLOPs, dtype: float64"
      ]
     },
     "execution_count": 16,
     "metadata": {},
     "output_type": "execute_result"
    }
   ],
   "source": [
    "df_no_search.swizzle_size.unique(), df_no_search.raster_order.unique()\n",
    "df_no_search.head()[\"GFLOPs\"]"
   ]
  },
  {
   "cell_type": "code",
   "execution_count": 12,
   "metadata": {},
   "outputs": [
    {
     "name": "stdout",
     "output_type": "stream",
     "text": [
      "Torch GFlops: 754080.32\n"
     ]
    }
   ],
   "source": [
    "from triton.testing import do_bench\n",
    "import torch\n",
    "\n",
    "M, N, K = 4096, 5120, 4096\n",
    "dtype = torch.float16\n",
    "\n",
    "A = torch.randn(M, K, dtype=dtype, device=\"cuda\")\n",
    "B = torch.randn(K, N, dtype=dtype, device=\"cuda\")\n",
    "\n",
    "GFLOP = (2 * M * N * K) / 1e9\n",
    "time_ms = do_bench(lambda: torch.matmul(A, B))\n",
    "time_s = time_ms / 1e3\n",
    "\n",
    "print(f\"Torch GFlops: {GFLOP / time_s:.2f}\")\n"
   ]
  },
  {
   "cell_type": "code",
   "execution_count": null,
   "metadata": {},
   "outputs": [],
   "source": []
  }
 ],
 "metadata": {
  "kernelspec": {
   "display_name": ".venv",
   "language": "python",
   "name": "python3"
  },
  "language_info": {
   "codemirror_mode": {
    "name": "ipython",
    "version": 3
   },
   "file_extension": ".py",
   "mimetype": "text/x-python",
   "name": "python",
   "nbconvert_exporter": "python",
   "pygments_lexer": "ipython3",
   "version": "3.12.8"
  }
 },
 "nbformat": 4,
 "nbformat_minor": 2
}
